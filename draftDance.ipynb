{
 "cells": [
  {
   "cell_type": "code",
   "execution_count": null,
   "metadata": {
    "dotnet_interactive": {
     "language": "csharp"
    },
    "vscode": {
     "languageId": "dotnet-interactive.csharp"
    }
   },
   "outputs": [
    {
     "data": {
      "text/html": [
       "<div><div><strong>Restore sources</strong><ul><li><span>https://pkgs.dev.azure.com/dnceng/public/_packaging/MachineLearning/nuget/v3/index.json</span></li></ul></div><div></div><div></div></div>"
      ]
     },
     "metadata": {},
     "output_type": "display_data"
    },
    {
     "ename": "Error",
     "evalue": "C:\\Users\\rossl\\.packagemanagement\\nuget\\Projects\\21444--1158b7cd-86d4-419d-8e97-80f7c61288d8\\Project.fsproj : warning NU1608: Detected package version outside of dependency constraint: Microsoft.DotNet.Interactive.PowerShell 1.0.0-beta.21559.2 requires Microsoft.DotNet.Interactive (= 1.0.0-beta.21559.2) but version Microsoft.DotNet.Interactive 1.0.0-beta.22371.2 was resolved.\r\nC:\\Users\\rossl\\.packagemanagement\\nuget\\Projects\\21444--1158b7cd-86d4-419d-8e97-80f7c61288d8\\Project.fsproj : warning NU1608: Detected package version outside of dependency constraint: Microsoft.DotNet.Interactive.Http 1.0.0-beta.21559.2 requires Microsoft.DotNet.Interactive (= 1.0.0-beta.21559.2) but version Microsoft.DotNet.Interactive 1.0.0-beta.22371.2 was resolved.\r\nC:\\Users\\rossl\\.packagemanagement\\nuget\\Projects\\21444--1158b7cd-86d4-419d-8e97-80f7c61288d8\\Project.fsproj : error NU1107: Version conflict detected for Microsoft.DotNet.Interactive.Formatting. Install/reference Microsoft.DotNet.Interactive.Formatting 1.0.0-beta.22371.2 directly to project Project to resolve this issue. \r\nC:\\Users\\rossl\\.packagemanagement\\nuget\\Projects\\21444--1158b7cd-86d4-419d-8e97-80f7c61288d8\\Project.fsproj : error NU1107:  Project -> Microsoft.DotNet.Interactive.ExtensionLab 1.0.0-beta.22371.2 -> Microsoft.DotNet.Interactive.Formatting (= 1.0.0-beta.22371.2) \r\nC:\\Users\\rossl\\.packagemanagement\\nuget\\Projects\\21444--1158b7cd-86d4-419d-8e97-80f7c61288d8\\Project.fsproj : error NU1107:  Project -> XPlot.Plotly.Interactive 4.0.6 -> Microsoft.DotNet.Interactive.PowerShell 1.0.0-beta.21559.2 -> Microsoft.DotNet.Interactive.Formatting (= 1.0.0-beta.21559.2).",
     "output_type": "error",
     "traceback": [
      "C:\\Users\\rossl\\.packagemanagement\\nuget\\Projects\\21444--1158b7cd-86d4-419d-8e97-80f7c61288d8\\Project.fsproj : warning NU1608: Detected package version outside of dependency constraint: Microsoft.DotNet.Interactive.PowerShell 1.0.0-beta.21559.2 requires Microsoft.DotNet.Interactive (= 1.0.0-beta.21559.2) but version Microsoft.DotNet.Interactive 1.0.0-beta.22371.2 was resolved.\r\n",
      "C:\\Users\\rossl\\.packagemanagement\\nuget\\Projects\\21444--1158b7cd-86d4-419d-8e97-80f7c61288d8\\Project.fsproj : warning NU1608: Detected package version outside of dependency constraint: Microsoft.DotNet.Interactive.Http 1.0.0-beta.21559.2 requires Microsoft.DotNet.Interactive (= 1.0.0-beta.21559.2) but version Microsoft.DotNet.Interactive 1.0.0-beta.22371.2 was resolved.\r\n",
      "C:\\Users\\rossl\\.packagemanagement\\nuget\\Projects\\21444--1158b7cd-86d4-419d-8e97-80f7c61288d8\\Project.fsproj : error NU1107: Version conflict detected for Microsoft.DotNet.Interactive.Formatting. Install/reference Microsoft.DotNet.Interactive.Formatting 1.0.0-beta.22371.2 directly to project Project to resolve this issue. \r\n",
      "C:\\Users\\rossl\\.packagemanagement\\nuget\\Projects\\21444--1158b7cd-86d4-419d-8e97-80f7c61288d8\\Project.fsproj : error NU1107:  Project -> Microsoft.DotNet.Interactive.ExtensionLab 1.0.0-beta.22371.2 -> Microsoft.DotNet.Interactive.Formatting (= 1.0.0-beta.22371.2) \r\n",
      "C:\\Users\\rossl\\.packagemanagement\\nuget\\Projects\\21444--1158b7cd-86d4-419d-8e97-80f7c61288d8\\Project.fsproj : error NU1107:  Project -> XPlot.Plotly.Interactive 4.0.6 -> Microsoft.DotNet.Interactive.PowerShell 1.0.0-beta.21559.2 -> Microsoft.DotNet.Interactive.Formatting (= 1.0.0-beta.21559.2)."
     ]
    }
   ],
   "source": [
    "// using nightly-build\n",
    "//#i \"nuget:https://pkgs.dev.azure.com/dnceng/public/_packaging/MachineLearning/nuget/v3/index.json\"\n",
    "#r \"nuget: Microsoft.Data.Analysis, 0.20.0-preview.22356.1\"\n",
    "#r \"nuget: Microsoft.ML, 2.0.0-preview.22356.1\"\n",
    "#r \"nuget:Microsoft.DotNet.Interactive.ExtensionLab,*-*\"\n",
    "#r \"nuget:SandDance.InteractiveExtension, 1.0.53\"\n",
    "#r \"nuget: XPlot.Plotly.Interactive, 4.0.6\""
   ]
  },
  {
   "cell_type": "markdown",
   "metadata": {},
   "source": [
    "# Exploring your own data - NFL Draft history from 2015 to 2021"
   ]
  },
  {
   "cell_type": "markdown",
   "metadata": {},
   "source": [
    "OK, Let's do some using statements so that we have tools to work with our data."
   ]
  },
  {
   "cell_type": "code",
   "execution_count": null,
   "metadata": {
    "dotnet_interactive": {
     "language": "csharp"
    },
    "vscode": {
     "languageId": "dotnet-interactive.csharp"
    }
   },
   "outputs": [],
   "source": [
    "using static Microsoft.DotNet.Interactive.Formatting.PocketViewTags;\n",
    "using Microsoft.DotNet.Interactive.Formatting;\n",
    "using Microsoft.DotNet.Interactive;\n",
    "using XPlot.Plotly.Interactive;\n",
    "using Microsoft.Data.Analysis;\n",
    "using Microsoft.ML;\n",
    "using System.Collections.Generic;\n",
    "using System.IO;"
   ]
  },
  {
   "cell_type": "markdown",
   "metadata": {},
   "source": [
    "Do our files exist? They were downloaded from [pro-football-reference.com](https://www.pro-football-reference.com/), such as this page for the [2015 Draft](https://www.pro-football-reference.com/years/2015/draft.htm)."
   ]
  },
  {
   "cell_type": "code",
   "execution_count": null,
   "metadata": {
    "dotnet_interactive": {
     "language": "csharp"
    },
    "vscode": {
     "languageId": "dotnet-interactive.csharp"
    }
   },
   "outputs": [],
   "source": [
    "var fileExists = File.Exists(\"drafts/2015Draft.csv\");\n",
    "if (fileExists)\n",
    "{\n",
    "    display(\"This file exists.  Nothing has blown up.....yet.\");\n",
    "}"
   ]
  },
  {
   "cell_type": "markdown",
   "metadata": {},
   "source": [
    "OK.  Make separate data frame objects for each draft from 2015 to 2021. Also, show the 2015 draft, to make sure the data makes sense."
   ]
  },
  {
   "cell_type": "code",
   "execution_count": null,
   "metadata": {
    "dotnet_interactive": {
     "language": "csharp"
    },
    "vscode": {
     "languageId": "dotnet-interactive.csharp"
    }
   },
   "outputs": [],
   "source": [
    "var draft2015 = DataFrame.LoadCsv(\"drafts/2015Draft.csv\");\n",
    "var draft2016 = DataFrame.LoadCsv(\"drafts/2016Draft.csv\");\n",
    "var draft2017 = DataFrame.LoadCsv(\"drafts/2017Draft.csv\");\n",
    "var draft2018 = DataFrame.LoadCsv(\"drafts/2018Draft.csv\");\n",
    "var draft2019 = DataFrame.LoadCsv(\"drafts/2019Draft.csv\");\n",
    "var draft2020 = DataFrame.LoadCsv(\"drafts/2020Draft.csv\");\n",
    "var draft2021 = DataFrame.LoadCsv(\"drafts/2021Draft.csv\");\n",
    "draft2015.Sample(15)"
   ]
  },
  {
   "cell_type": "markdown",
   "metadata": {},
   "source": [
    "Let's try to look at this data in SandDance."
   ]
  },
  {
   "cell_type": "code",
   "execution_count": null,
   "metadata": {
    "dotnet_interactive": {
     "language": "csharp"
    },
    "vscode": {
     "languageId": "dotnet-interactive.csharp"
    }
   },
   "outputs": [],
   "source": [
    "draft2021.ToTabularDataResource().ExploreWithSandDance().Display()"
   ]
  },
  {
   "cell_type": "markdown",
   "metadata": {},
   "source": [
    "I don't think that worked.  It's because the dataFrame has null values.\n",
    "\n",
    "- For \"To\", let's assume the year they were drafted was their last year. That means we need a DraftYear column.\n",
    "- For null age, let's guess the median age of all the other draftees, rounded down.\n",
    "- \"0\" values for all other columns seem fine."
   ]
  },
  {
   "cell_type": "markdown",
   "metadata": {
    "dotnet_interactive": {
     "language": "csharp"
    }
   },
   "source": [
    "First, Add the DraftYear and make it the year of that draft."
   ]
  },
  {
   "cell_type": "code",
   "execution_count": null,
   "metadata": {
    "dotnet_interactive": {
     "language": "csharp"
    },
    "vscode": {
     "languageId": "dotnet-interactive.csharp"
    }
   },
   "outputs": [],
   "source": [
    "PrimitiveDataFrameColumn<int> draftYear = new PrimitiveDataFrameColumn<int>(\"Ints\", 256); // Makes a column of length 3. Filled with nulls initially\n",
    "\n",
    "draft2021.Columns.Add(new PrimitiveDataFrameColumn<int>(\"DraftYear\", draft2021.Rows.Count()));\n",
    "draft2021[\"DraftYear\"].FillNulls(2021, true);\n",
    "draft2021[\"To\"].FillNulls(2021, true);\n",
    "draft2020.Columns.Add(new PrimitiveDataFrameColumn<int>(\"DraftYear\", draft2020.Rows.Count()));\n",
    "draft2020[\"DraftYear\"].FillNulls(2020, true);\n",
    "draft2020[\"To\"].FillNulls(2020, true);\n",
    "draft2019.Columns.Add(new PrimitiveDataFrameColumn<int>(\"DraftYear\", draft2019.Rows.Count()));\n",
    "draft2019[\"DraftYear\"].FillNulls(2019, true);\n",
    "draft2019[\"To\"].FillNulls(2019, true);\n",
    "draft2018.Columns.Add(new PrimitiveDataFrameColumn<int>(\"DraftYear\", draft2018.Rows.Count()));\n",
    "draft2018[\"DraftYear\"].FillNulls(2018, true);\n",
    "draft2018[\"To\"].FillNulls(2018, true);\n",
    "draft2017.Columns.Add(new PrimitiveDataFrameColumn<int>(\"DraftYear\", draft2017.Rows.Count()));\n",
    "draft2017[\"DraftYear\"].FillNulls(2017, true);\n",
    "draft2017[\"To\"].FillNulls(2017, true);\n",
    "draft2016.Columns.Add(new PrimitiveDataFrameColumn<int>(\"DraftYear\", draft2016.Rows.Count()));\n",
    "draft2016[\"DraftYear\"].FillNulls(2016, true);\n",
    "draft2016[\"To\"].FillNulls(2016, true);\n",
    "draft2015.Columns.Add(new PrimitiveDataFrameColumn<int>(\"DraftYear\", draft2015.Rows.Count()));\n",
    "draft2015[\"DraftYear\"].FillNulls(2015, true);\n",
    "draft2015[\"To\"].FillNulls(2015, true);"
   ]
  },
  {
   "cell_type": "markdown",
   "metadata": {},
   "source": [
    "OK, let's get the median age of a drafted player, then insert that age whenever we don't have that data."
   ]
  },
  {
   "cell_type": "code",
   "execution_count": null,
   "metadata": {
    "dotnet_interactive": {
     "language": "csharp"
    },
    "vscode": {
     "languageId": "dotnet-interactive.csharp"
    }
   },
   "outputs": [],
   "source": [
    "medianAge = draft2021[\"Age\"].Median();\n",
    "int age = (int)medianAge;\n",
    "draft2021[\"Age\"].FillNulls(age, true);\n",
    "draft2020[\"Age\"].FillNulls(age, true);\n",
    "draft2019[\"Age\"].FillNulls(age, true);\n",
    "draft2018[\"Age\"].FillNulls(age, true);\n",
    "draft2017[\"Age\"].FillNulls(age, true);\n",
    "draft2016[\"Age\"].FillNulls(age, true);\n",
    "draft2015[\"Age\"].FillNulls(age, true);"
   ]
  },
  {
   "cell_type": "markdown",
   "metadata": {},
   "source": [
    "All other null values can be zero."
   ]
  },
  {
   "cell_type": "code",
   "execution_count": null,
   "metadata": {
    "dotnet_interactive": {
     "language": "csharp"
    },
    "vscode": {
     "languageId": "dotnet-interactive.csharp"
    }
   },
   "outputs": [],
   "source": [
    "draft2021[\"Pos\"].FillNulls(\"XX\", true);\n",
    "\n",
    "// Possible null rows are: wAV,DrAV,G,PassCmp,PassAtt,PassYds,PassTD,PassInt,RushAtt,RushYds,RushTD,Rec,RecYds,RecTD,SoloTak,Int,Sk\n",
    "draft2021[\"wAV\"].FillNulls(0, true);\n",
    "draft2021[\"DrAV\"].FillNulls(0, true);\n",
    "draft2021[\"G\"].FillNulls(0, true);\n",
    "draft2021[\"PassCmp\"].FillNulls(0, true);\n",
    "draft2021[\"PassAtt\"].FillNulls(0, true);\n",
    "draft2021[\"PassYds\"].FillNulls(0, true);\n",
    "draft2021[\"PassTD\"].FillNulls(0, true);\n",
    "draft2021[\"PassInt\"].FillNulls(0, true);\n",
    "draft2021[\"RushAtt\"].FillNulls(0, true);\n",
    "draft2021[\"RushYds\"].FillNulls(0, true);\n",
    "draft2021[\"RushTD\"].FillNulls(0, true);\n",
    "draft2021[\"Rec\"].FillNulls(0, true);\n",
    "draft2021[\"RecYds\"].FillNulls(0, true);\n",
    "draft2021[\"RecTD\"].FillNulls(0, true);\n",
    "draft2021[\"SoloTak\"].FillNulls(0, true);\n",
    "draft2021[\"Int\"].FillNulls(0, true);\n",
    "draft2021[\"Sk\"].FillNulls(\"0\", true);\n",
    "\n",
    "Microsoft.Data.Analysis.WriteCSV(draft2021,\"newCSV.csv\",\",\");\n",
    "\n",
    "draft2021.ToTabularDataResource()\n",
    "//draft2021.ToTabularDataResource().ExploreWithSandDance().Display()"
   ]
  }
 ],
 "metadata": {
  "kernelspec": {
   "display_name": ".NET (C#)",
   "language": "C#",
   "name": ".net-csharp"
  },
  "language_info": {
   "file_extension": ".cs",
   "mimetype": "text/x-csharp",
   "name": "C#",
   "pygments_lexer": "csharp",
   "version": "9.0"
  },
  "orig_nbformat": 4
 },
 "nbformat": 4,
 "nbformat_minor": 2
}
